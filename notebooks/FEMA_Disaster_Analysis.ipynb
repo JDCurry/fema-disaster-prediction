# Install required packages
!pip install pandas numpy matplotlib seaborn scikit-learn requests

# %%
import pandas as pd
import numpy as np
import matplotlib.pyplot as plt
import seaborn as sns
from datetime import datetime, timedelta
import requests
import json

# Set seaborn plotting style
sns.set_theme() # Use sns.set_theme() for setting seaborn style.

# %%
# Fetch data directly from FEMA API
def fetch_fema_data():
    print("Fetching data from FEMA API...")
    url = "https://www.fema.gov/api/open/v2/DisasterDeclarationsSummaries"
    response = requests.get(url)
    
    if response.status_code == 200:
        data = response.json()
        df = pd.DataFrame(data["DisasterDeclarationsSummaries"])
        return df
    else:
        raise Exception(f"Failed to fetch data: {response.status_code}")

# Load the data
try:
    df = fetch_fema_data()
    print("Data successfully loaded!")
    
    # Display basic information
    print("\nDataset Shape:", df.shape)
    print("\nColumns:", df.columns.tolist())
    print("\nData Types:\n", df.dtypes)
    print("\nMissing Values:\n", df.isnull().sum())
except Exception as e:
    print(f"Error loading data: {str(e)}")
# %% [markdown]
# ## 2. Temporal Analysis
# %%
# Convert date columns
date_columns = ['declarationDate', 'incidentBeginDate', 'incidentEndDate']
for col in date_columns:
    df[col] = pd.to_datetime(df[col])
# set seaborn style here in the cell where we plot
sns.set_theme()

# Analyze disasters over time
plt.figure(figsize=(15, 6))
df.groupby(df['declarationDate'].dt.year)['incidentType'].count().plot(kind='line')
plt.title('Number of Disaster Declarations by Year')
plt.xlabel('Year')
plt.ylabel('Number of Declarations')
plt.show()

# Seasonal patterns
plt.figure(figsize=(15, 6))
df.groupby(df['declarationDate'].dt.month)['incidentType'].count().plot(kind='bar')
plt.title('Disaster Declarations by Month')
plt.xlabel('Month')
plt.ylabel('Number of Declarations')
plt.show()
