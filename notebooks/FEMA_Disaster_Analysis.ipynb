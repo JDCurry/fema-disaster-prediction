{
 "cells": [
  {
   "cell_type": "markdown",
   "metadata": {
    "id": "view-in-github",
    "colab_type": "text"
   },
   "source": [
    "<a href=\"https://colab.research.google.com/github/JDCurry/fema-disaster-prediction/blob/main/notebooks/FEMA_Disaster_Analysis.ipynb\" target=\"_parent\"><img src=\"https://colab.research.google.com/assets/colab-badge.svg\" alt=\"Open In Colab\"/></a>"
   ]
  },
  {
   "cell_type": "markdown",
   "metadata": {},
   "source": [
    "# FEMA Disaster Data Analysis\n",
    "\n",
    "This notebook explores the FEMA Disaster Declarations dataset to understand patterns and inform our prediction model.\n",
    "\n",
    "First, let's set up our environment and fetch the data."
   ]
  },
  {
   "cell_type": "code",
   "execution_count": null,
   "metadata": {},
   "source": [
    "# Install required packages\n",
    "!pip install pandas numpy matplotlib seaborn scikit-learn requests"
   ]
  },
  {
   "cell_type": "code",
   "execution_count": null,
   "metadata": {},
   "source": [
    "import pandas as pd\n",
    "import numpy as np\n",
    "import matplotlib.pyplot as plt\n",
    "import seaborn as sns\n",
    "from datetime import datetime, timedelta\n",
    "import requests\n",
    "import json\n",
    "\n",
    "# Set plotting style\n",
    "sns.set_theme(style='whitegrid')  # Using set_theme instead of style.use\n",
    "sns.set_palette(\"husl\")"
   ]
  },
  {
   "cell_type": "code",
   "execution_count": null,
   "metadata": {},
   "source": [
    "# Fetch data directly from FEMA API\n",
    "def fetch_fema_data():\n",
    "    print(\"Fetching data from FEMA API...\")\n",
    "    url = \"https://www.fema.gov/api/open/v2/DisasterDeclarationsSummaries\"\n",
    "    response = requests.get(url)\n",
    "\n",
    "    if response.status_code == 200:\n",
    "        data = response.json()\n",
    "        df = pd.DataFrame(data[\"DisasterDeclarationsSummaries\"])\n",
    "        return df\n",
    "    else:\n",
    "        raise Exception(f\"Failed to fetch data: {response.status_code}\")\n",
    "\n",
    "# Load the data\n",
    "try:\n",
    "    df = fetch_fema_data()\n",
    "    print(\"Data successfully loaded!\")\n",
    "\n",
    "    # Display basic information\n",
    "    print(\"\\nDataset Shape:\", df.shape)\n",
    "    print(\"\\nColumns:\", df.columns.tolist())\n",
    "    print(\"\\nData Types:\\n\", df.dtypes)\n",
    "    print(\"\\nMissing Values:\\n\", df.isnull().sum())\n",
    "except Exception as e:\n",
    "    print(f\"Error loading data: {str(e)}\")"
   ]
  },
  {
   "cell_type": "markdown",
   "metadata": {},
   "source": [
    "## 2. Temporal Analysis"
   ]
  },
  {
   "cell_type": "code",
   "execution_count": null,
   "metadata": {},
   "source": [
    "# Convert date columns\n",
    "date_columns = ['declarationDate', 'incidentBeginDate', 'incidentEndDate']\n",
    "for col in date_columns:\n",
    "    df[col] = pd.to_datetime(df[col])\n",
    "\n",
    "# Analyze disasters over time\n",
    "plt.figure(figsize=(15, 6))\n",
    "df.groupby(df['declarationDate'].dt.year)['incidentType'].count().plot(kind='line')\n",
    "plt.title('Number of Disaster Declarations by Year')\n",
    "plt.xlabel('Year')\n",
    "plt.ylabel('Number of Declarations')\n",
    "plt.show()\n",
    "\n",
    "# Seasonal patterns\n",
    "plt.figure(figsize=(15, 6))\n",
    "df.groupby(df['declarationDate'].dt.month)['incidentType'].count().plot(kind='bar')\n",
    "plt.title('Disaster Declarations by Month')\n",
    "plt.xlabel('Month')\n",
    "plt.ylabel('Number of Declarations')\n",
    "plt.show()"
   ]
  },
  {
   "cell_type": "markdown",
   "metadata": {},
   "source": [
    "## 3. Geographic Analysis"
   ]
  },
  {
   "cell_type": "code",
   "execution_count": null,
   "metadata": {},
   "source": [
    "# State-level analysis\n",
    "plt.figure(figsize=(15, 8))\n",
    "state_counts = df['state'].value_counts().head(15)\n",
    "sns.barplot(x=state_counts.values, y=state_counts.index)\n",
    "plt.title('Top 15 States by Number of Disaster Declarations')\n",
    "plt.xlabel('Number of Declarations')\n",
    "plt.ylabel('State')\n",
    "plt.show()\n",
    "\n",
    "# Region-level analysis\n",
    "plt.figure(figsize=(12, 6))\n",
    "df['region'].value_counts().plot(kind='bar')\n",
    "plt.title('Disaster Declarations by FEMA Region')\n",
    "plt.xlabel('Region')\n",
    "plt.ylabel('Number of Declarations')\n",
    "plt.xticks(rotation=45)\n",
    "plt.show()\n",
    "\n",
    "# Create a heatmap of disaster types by region\n",
    "pivot_table = pd.crosstab(df['region'], df['incidentType'])\n",
    "plt.figure(figsize=(15, 8))\n",
    "sns.heatmap(pivot_table, annot=True, fmt='d', cmap='YlOrRd')\n",
    "plt.title('Distribution of Disaster Types by Region')\n",
    "plt.show()\n",
    "\n",
    "# Print summary statistics\n",
    "print(\"\\nGeographic Analysis Summary:\")\n",
    "print(f\"Number of states affected: {df['state'].nunique()}\")\n",
    "print(f\"Number of regions: {df['region'].nunique()}\")\n",
    "print(\"\\nTop 5 states by disaster declarations:\")\n",
    "print(df['state'].value_counts().head().to_frame())"
   ]
  },
  {
   "cell_type": "markdown",
   "metadata": {},
   "source": [
    "## 4. Disaster Type Analysis"
   ]
  },
  {
   "cell_type": "code",
   "execution_count": null,
   "metadata": {},
   "source": [
    "# Distribution of disaster types\n",
    "plt.figure(figsize=(12, 6))\n",
    "disaster_counts = df['incidentType'].value_counts()\n",
    "sns.barplot(x=disaster_counts.values, y=disaster_counts.index)\n",
    "plt.title('Distribution of Disaster Types')\n",
    "plt.xlabel('Number of Declarations')\n",
    "plt.show()\n",
    "\n",
    "# Calculate and display average duration by disaster type\n",
    "df['incident_duration'] = (df['incidentEndDate'] - df['incidentBeginDate']).dt.days\n",
    "\n",
    "plt.figure(figsize=(12, 6))\n",
    "sns.boxplot(x='incidentType', y='incident_duration', data=df)\n",
    "plt.title('Incident Duration by Disaster Type')\n",
    "plt.xticks(rotation=45)\n",
    "plt.show()\n",
    "\n",
    "# Temporal patterns by disaster type\n",
    "plt.figure(figsize=(15, 6))\n",
    "annual_counts = df.groupby([df['declarationDate'].dt.year, 'incidentType']).size().unstack()\n",
    "annual_counts.plot(kind='line', marker='o')\n",
    "plt.title('Disaster Types Over Time')\n",
    "plt.xlabel('Year')\n",
    "plt.ylabel('Number of Declarations')\n",
    "plt.legend(bbox_to_anchor=(1.05, 1), loc='upper left')\n",
    "plt.tight_layout()\n",
    "plt.show()\n",
    "\n",
    "# Print summary statistics\n",
    "print(\"\\nDisaster Type Analysis Summary:\")\n",
    "print(f\"Total number of disaster types: {df['incidentType'].nunique()}\")\n",
    "print(\"\\nDisaster type distribution:\")\n",
    "print(df['incidentType'].value_counts().to_frame())\n",
    "print(\"\\nAverage duration by disaster type (days):\")\n",
    "print(df.groupby('incidentType')['incident_duration'].mean().round(1).sort_values(ascending=False))"
   ]
  },
  {
   "cell_type": "markdown",
   "metadata": {},
   "source": [
    "## Conclusions\n",
    "\n",
    "From this analysis, we can conclude:\n",
    "1. Temporal patterns in disaster occurrences\n",
    "2. Geographic distribution of different disaster types\n",
    "3. Effectiveness of our seasonal risk scoring\n",
    "4. Most important features for prediction\n",
    "\n",
    "These insights have been incorporated into our prediction model in the main application."
   ]
  }
 ],
 "metadata": {
  "colab": {
   "name": "FEMA_Disaster_Analysis.ipynb",
   "provenance": [],
   "toc_visible": true,
   "include_colab_link": true
  },
  "kernelspec": {
   "display_name": "Python 3",
   "name": "python3"
  }
 },
 "nbformat": 4,
 "nbformat_minor": 0
}
