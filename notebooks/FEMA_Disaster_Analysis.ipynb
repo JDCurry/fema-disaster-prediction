{
 "cells": [
  {
   "cell_type": "markdown",
   "metadata": {},
   "source": [
    "# FEMA Disaster Data Analysis\n",
    "\n",
    "This notebook explores the FEMA Disaster Declarations dataset to understand patterns and inform our prediction model.\n",
    "\n",
    "First, let's set up our environment and fetch the data."
   ]
  },
  {
   "cell_type": "code",
   "execution_count": null,
   "metadata": {},
   "source": [
    "# Install required packages\n",
    "!pip install pandas numpy matplotlib seaborn scikit-learn requests"
   ]
  },
  {
   "cell_type": "code",
   "execution_count": null,
   "metadata": {},
   "source": [
    "import pandas as pd\n",
    "import numpy as np\n",
    "import matplotlib.pyplot as plt\n",
    "import seaborn as sns\n",
    "from datetime import datetime, timedelta\n",
    "import requests\n",
    "import json\n",
    "\n",
    "# Set plotting style\n",
    "plt.style.use('seaborn')\n",
    "sns.set_palette(\"husl\")"
   ]
  },
  {
   "cell_type": "code",
   "execution_count": null,
   "metadata": {},
   "source": [
    "# Fetch data directly from FEMA API\n",
    "def fetch_fema_data():\n",
    "    print(\"Fetching data from FEMA API...\")\n",
    "    url = \"https://www.fema.gov/api/open/v2/DisasterDeclarationsSummaries\"\n",
    "    response = requests.get(url)\n",
    "    \n",
    "    if response.status_code == 200:\n",
    "        data = response.json()\n",
    "        df = pd.DataFrame(data[\"DisasterDeclarationsSummaries\"])\n",
    "        return df\n",
    "    else:\n",
    "        raise Exception(f\"Failed to fetch data: {response.status_code}\")\n",
    "\n",
    "# Load the data\n",
    "try:\n",
    "    df = fetch_fema_data()\n",
    "    print(\"Data successfully loaded!\")\n",
    "    \n",
    "    # Display basic information\n",
    "    print(\"\\nDataset Shape:\", df.shape)\n",
    "    print(\"\\nColumns:\", df.columns.tolist())\n",
    "    print(\"\\nData Types:\\n\", df.dtypes)\n",
    "    print(\"\\nMissing Values:\\n\", df.isnull().sum())\n",
    "except Exception as e:\n",
    "    print(f\"Error loading data: {str(e)}\")"
   ]
  },
  {
   "cell_type": "markdown",
   "metadata": {},
   "source": [
    "## 2. Temporal Analysis"
   ]
  },
  {
   "cell_type": "code",
   "execution_count": null,
   "metadata": {},
   "source": [
    "# Convert date columns\n",
    "date_columns = ['declarationDate', 'incidentBeginDate', 'incidentEndDate']\n",
    "for col in date_columns:\n",
    "    df[col] = pd.to_datetime(df[col])\n",
    "\n",
    "# Analyze disasters over time\n",
    "plt.figure(figsize=(15, 6))\n",
    "df.groupby(df['declarationDate'].dt.year)['incidentType'].count().plot(kind='line')\n",
    "plt.title('Number of Disaster Declarations by Year')\n",
    "plt.xlabel('Year')\n",
    "plt.ylabel('Number of Declarations')\n",
    "plt.show()\n",
    "\n",
    "# Seasonal patterns\n",
    "plt.figure(figsize=(15, 6))\n",
    "df.groupby(df['declarationDate'].dt.month)['incidentType'].count().plot(kind='bar')\n",
    "plt.title('Disaster Declarations by Month')\n",
    "plt.xlabel('Month')\n",
    "plt.ylabel('Number of Declarations')\n",
    "plt.show()"
   ]
  },
  {
   "cell_type": "markdown",
   "metadata": {},
   "source": [
    "## 3. Geographic Analysis"
   ]
  },
  {
   "cell_type": "code",
   "execution_count": null,
   "metadata": {},
   "source": [
    "# Rest of the notebook content remains the same...\n",
    "# (Geographic Analysis, Disaster Type Analysis, etc.)"
   ]
  }
 ],
 "metadata": {
  "colab": {
   "name": "FEMA_Disaster_Analysis.ipynb",
   "provenance": [],
   "toc_visible": true
  },
  "kernelspec": {
   "display_name": "Python 3",
   "name": "python3"
  }
 },
 "nbformat": 4,
 "nbformat_minor": 0
}
