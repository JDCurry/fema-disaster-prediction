{
 "cells": [
  {
   "cell_type": "markdown",
   "metadata": {},
   "source": [
    "# FEMA Disaster Data Analysis\n",
    "\n",
    "This notebook explores the FEMA Disaster Declarations dataset to understand patterns and inform our prediction model."
   ]
  },
  {
   "cell_type": "code",
   "execution_count": null,
   "metadata": {},
   "source": [
    "# Setup and Installation\n",
    "!git clone https://github.com/your-username/fema-disaster-prediction.git\n",
    "!pip install -r fema-disaster-prediction/requirements.txt\n",
    "\n",
    "# Optional: If you want to fetch fresh data from FEMA API\n",
    "!curl -o fema-disaster-prediction/data/fema_disasters_complete.csv https://www.fema.gov/api/open/v2/DisasterDeclarationsSummaries"
   ]
  },
  {
   "cell_type": "code",
   "execution_count": null,
   "metadata": {},
   "source": [
    "import pandas as pd\n",
    "import numpy as np\n",
    "import matplotlib.pyplot as plt\n",
    "import seaborn as sns\n",
    "from datetime import datetime, timedelta\n",
    "\n",
    "# Set plotting style\n",
    "plt.style.use('seaborn')\n",
    "sns.set_palette(\"husl\")"
   ]
  },
  {
   "cell_type": "code",
   "execution_count": null,
   "metadata": {},
   "source": [
    "# Load the data (adjusted path for Colab)\n",
    "df = pd.read_csv('fema-disaster-prediction/data/fema_disasters_complete.csv')\n",
    "\n",
    "# Display basic information\n",
    "print(\"Dataset Shape:\", df.shape)\n",
    "print(\"\\nColumns:\", df.columns.tolist())\n",
    "print(\"\\nData Types:\\n\", df.dtypes)\n",
    "print(\"\\nMissing Values:\\n\", df.isnull().sum())"
   ]
  },
  {
    "cell_type": "markdown",
    "metadata": {},
    "source": [
     "Rest of the notebook remains the same..."
    ]
  }
 ],
 "metadata": {
  "colab": {
    "name": "FEMA_Disaster_Analysis.ipynb",
    "provenance": [],
    "toc_visible": true
  },
  "kernelspec": {
   "display_name": "Python 3",
   "name": "python3"
  }
 },
 "nbformat": 4,
 "nbformat_minor": 0
}
