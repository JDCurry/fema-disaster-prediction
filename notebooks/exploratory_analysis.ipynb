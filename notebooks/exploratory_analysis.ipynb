{
 "cells": [
  {
   "cell_type": "markdown",
   "metadata": {},
   "source": [
    "# FEMA Disaster Data Analysis\n",
    "\n",
    "This notebook explores the FEMA Disaster Declarations dataset to understand patterns and inform our prediction model.\n",
    "\n",
    "## Contents\n",
    "1. Data Loading and Initial Exploration\n",
    "2. Temporal Analysis\n",
    "3. Geographic Analysis\n",
    "4. Disaster Type Analysis\n",
    "5. Feature Engineering Exploration\n",
    "6. Model Testing"
   ]
  },
  {
   "cell_type": "code",
   "execution_count": null,
   "metadata": {},
   "source": [
    "import pandas as pd\n",
    "import numpy as np\n",
    "import matplotlib.pyplot as plt\n",
    "import seaborn as sns\n",
    "from datetime import datetime, timedelta\n",
    "\n",
    "# Set plotting style\n",
    "plt.style.use('seaborn')\n",
    "sns.set_palette(\"husl\")"
   ]
  },
  {
   "cell_type": "markdown",
   "metadata": {},
   "source": [
    "## 1. Data Loading and Initial Exploration"
   ]
  },
  {
   "cell_type": "code",
   "execution_count": null,
   "metadata": {},
   "source": [
    "# Load the data\n",
    "df = pd.read_csv('../data/fema_disasters_complete.csv')\n",
    "\n",
    "# Display basic information\n",
    "print(\"Dataset Shape:\", df.shape)\n",
    "print(\"\\nColumns:\", df.columns.tolist())\n",
    "print(\"\\nData Types:\\n\", df.dtypes)\n",
    "print(\"\\nMissing Values:\\n\", df.isnull().sum())"
   ]
  },
  {
   "cell_type": "markdown",
   "metadata": {},
   "source": [
    "## 2. Temporal Analysis"
   ]
  },
  {
   "cell_type": "code",
   "execution_count": null,
   "metadata": {},
   "source": [
    "# Convert date columns\n",
    "date_columns = ['declarationDate', 'incidentBeginDate', 'incidentEndDate']\n",
    "for col in date_columns:\n",
    "    df[col] = pd.to_datetime(df[col])\n",
    "\n",
    "# Analyze disasters over time\n",
    "plt.figure(figsize=(15, 6))\n",
    "df.groupby(df['declarationDate'].dt.year)['incidentType'].count().plot(kind='line')\n",
    "plt.title('Number of Disaster Declarations by Year')\n",
    "plt.xlabel('Year')\n",
    "plt.ylabel('Number of Declarations')\n",
    "plt.show()\n",
    "\n",
    "# Seasonal patterns\n",
    "plt.figure(figsize=(15, 6))\n",
    "df.groupby(df['declarationDate'].dt.month)['incidentType'].count().plot(kind='bar')\n",
    "plt.title('Disaster Declarations by Month')\n",
    "plt.xlabel('Month')\n",
    "plt.ylabel('Number of Declarations')\n",
    "plt.show()"
   ]
  },
  {
   "cell_type": "markdown",
   "metadata": {},
   "source": [
    "## 3. Geographic Analysis"
   ]
  },
  {
   "cell_type": "code",
   "execution_count": null,
   "metadata": {},
   "source": [
    "# Analyze disasters by region and state\n",
    "plt.figure(figsize=(12, 8))\n",
    "df['region'].value_counts().plot(kind='bar')\n",
    "plt.title('Disaster Declarations by Region')\n",
    "plt.xlabel('Region')\n",
    "plt.ylabel('Number of Declarations')\n",
    "plt.xticks(rotation=45)\n",
    "plt.show()\n",
    "\n",
    "# Create a heatmap of disaster types by region\n",
    "pivot_table = pd.crosstab(df['region'], df['incidentType'])\n",
    "plt.figure(figsize=(15, 8))\n",
    "sns.heatmap(pivot_table, annot=True, fmt='d', cmap='YlOrRd')\n",
    "plt.title('Disaster Types by Region')\n",
    "plt.show()"
   ]
  },
  {
   "cell_type": "markdown",
   "metadata": {},
   "source": [
    "## 4. Disaster Type Analysis"
   ]
  },
  {
   "cell_type": "code",
   "execution_count": null,
   "metadata": {},
   "source": [
    "# Analyze disaster types\n",
    "plt.figure(figsize=(12, 6))\n",
    "df['incidentType'].value_counts().plot(kind='bar')\n",
    "plt.title('Distribution of Disaster Types')\n",
    "plt.xlabel('Disaster Type')\n",
    "plt.ylabel('Count')\n",
    "plt.xticks(rotation=45)\n",
    "plt.show()\n",
    "\n",
    "# Calculate and display average duration by disaster type\n",
    "df['incident_duration'] = (df['incidentEndDate'] - df['incidentBeginDate']).dt.days\n",
    "\n",
    "plt.figure(figsize=(12, 6))\n",
    "sns.boxplot(x='incidentType', y='incident_duration', data=df)\n",
    "plt.title('Incident Duration by Disaster Type')\n",
    "plt.xticks(rotation=45)\n",
    "plt.show()"
   ]
  },
  {
   "cell_type": "markdown",
   "metadata": {},
   "source": [
    "## 5. Feature Engineering Exploration"
   ]
  },
  {
   "cell_type": "code",
   "execution_count": null,
   "metadata": {},
   "source": [
    "# Calculate seasonal risk scores\n",
    "def calculate_seasonal_risk(data):\n",
    "    risk_scores = np.zeros(len(data))\n",
    "    \n",
    "    for region in data['region'].unique():\n",
    "        for incident_type in data['incidentType'].unique():\n",
    "            mask = (data['region'] == region) & (data['incidentType'] == incident_type)\n",
    "            monthly_counts = data[mask].groupby(data['declarationDate'].dt.month).size()\n",
    "            \n",
    "            if not monthly_counts.empty:\n",
    "                normalized_counts = (monthly_counts - monthly_counts.min()) / \\\n",
    "                                   (monthly_counts.max() - monthly_counts.min() + 1e-6)\n",
    "                \n",
    "                for month, score in normalized_counts.items():\n",
    "                    month_mask = mask & (data['declarationDate'].dt.month == month)\n",
    "                    risk_scores[month_mask] = score\n",
    "                    \n",
    "    return risk_scores\n",
    "\n",
    "df['seasonal_risk'] = calculate_seasonal_risk(df)\n",
    "\n",
    "# Visualize seasonal risk patterns\n",
    "plt.figure(figsize=(15, 6))\n",
    "for disaster_type in df['incidentType'].unique():\n",
    "    disaster_data = df[df['incidentType'] == disaster_type]\n",
    "    plt.plot(disaster_data.groupby(disaster_data['declarationDate'].dt.month)['seasonal_risk'].mean(),\n",
    "             label=disaster_type)\n",
    "\n",
    "plt.title('Seasonal Risk Patterns by Disaster Type')\n",
    "plt.xlabel('Month')\n",
    "plt.ylabel('Risk Score')\n",
    "plt.legend(bbox_to_anchor=(1.05, 1))\n",
    "plt.show()"
   ]
  },
  {
   "cell_type": "markdown",
   "metadata": {},
   "source": [
    "## 6. Model Testing"
   ]
  },
  {
   "cell_type": "code",
   "execution_count": null,
   "metadata": {},
   "source": [
    "from sklearn.model_selection import train_test_split\n",
    "from sklearn.ensemble import RandomForestClassifier\n",
    "from sklearn.metrics import classification_report\n",
    "from sklearn.preprocessing import LabelEncoder\n",
    "\n",
    "# Prepare features\n",
    "features = ['month', 'day_of_year', 'region', 'seasonal_risk', 'fipsStateCode']\n",
    "df['month'] = df['declarationDate'].dt.month\n",
    "df['day_of_year'] = df['declarationDate'].dt.dayofyear\n",
    "\n",
    "X = df[features].copy()\n",
    "y = df['incidentType']\n",
    "\n",
    "# Encode categorical variables\n",
    "label_encoders = {}\n",
    "for col in X.select_dtypes(include=['object']).columns:\n",
    "    label_encoders[col] = LabelEncoder()\n",
    "    X[col] = label_encoders[col].fit_transform(X[col])\n",
    "\n",
    "# Split data\n",
    "X_train, X_test, y_train, y_test = train_test_split(X, y, test_size=0.2, random_state=42)\n",
    "\n",
    "# Test different numbers of trees\n",
    "n_trees = [50, 100, 200]\n",
    "results = {}\n",
    "\n",
    "for n in n_trees:\n",
    "    clf = RandomForestClassifier(n_estimators=n, random_state=42)\n",
    "    clf.fit(X_train, y_train)\n",
    "    y_pred = clf.predict(X_test)\n",
    "    results[n] = classification_report(y_test, y_pred)\n",
    "    print(f\"\\nResults for {n} trees:\")\n",
    "    print(results[n])\n",
    "\n",
    "# Feature importance\n",
    "feature_importance = pd.DataFrame({\n",
    "    'feature': features,\n",
    "    'importance': clf.feature_importances_\n",
    "}).sort_values('importance', ascending=False)\n",
    "\n",
    "plt.figure(figsize=(10, 6))\n",
    "sns.barplot(x='importance', y='feature', data=feature_importance)\n",
    "plt.title('Feature Importance in Disaster Type Prediction')\n",
    "plt.show()"
   ]
  },
  {
   "cell_type": "markdown",
   "metadata": {},
   "source": [
    "## Conclusions\n",
    "\n",
    "From this analysis, we can conclude:\n",
    "1. Temporal patterns in disaster occurrences\n",
    "2. Geographic distribution of different disaster types\n",
    "3. Effectiveness of our seasonal risk scoring\n",
    "4. Most important features for prediction\n",
    "\n",
    "These insights have been incorporated into our prediction model in the main application."
   ]
  }
 ],
 "metadata": {
  "kernelspec": {
   "display_name": "Python 3",
   "language": "python",
   "name": "python3"
  },
  "language_info": {
   "codemirror_mode": {
    "name": "ipython",
    "version": 3
   },
   "file_extension": ".py",
   "mimetype": "text/x-python",
   "name": "python",
   "nbconvert_exporter": "python",
   "pygments_lexer": "ipython3",
   "version": "3.8.0"
  }
 },
 "nbformat": 4,
 "nbformat_minor": 4
}